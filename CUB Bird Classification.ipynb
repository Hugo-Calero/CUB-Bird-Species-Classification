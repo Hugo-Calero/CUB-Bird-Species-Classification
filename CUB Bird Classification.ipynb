{
 "cells": [
  {
   "cell_type": "code",
   "execution_count": null,
   "id": "beec9eed",
   "metadata": {
    "colab": {
     "base_uri": "https://localhost:8080/"
    },
    "id": "beec9eed",
    "outputId": "058d9599-abde-4e03-8a01-13f3dd9ad7e8"
   },
   "outputs": [],
   "source": [
    "from google.colab import drive\n",
    "drive.mount('/content/drive')"
   ]
  },
  {
   "cell_type": "code",
   "execution_count": null,
   "id": "add6173d",
   "metadata": {
    "id": "add6173d"
   },
   "outputs": [],
   "source": [
    "import tensorflow as tf\n",
    "from tensorflow.compat.v1.keras.backend import set_session\n",
    "import numpy as np\n",
    "import pandas as pd\n",
    "import glob\n",
    "import random \n",
    "import os\n",
    "import seaborn as sns\n",
    "import zipfile\n",
    "import itertools\n",
    "import math\n",
    "#visulaziation\n",
    "import matplotlib.pyplot as plt\n",
    "# image\n",
    "from PIL import Image\n",
    "import keras\n",
    "#tensorflow\n",
    "import tensorflow as tf\n",
    "from tensorflow.keras.callbacks import ModelCheckpoint, EarlyStopping\n",
    "from tensorflow.keras import Sequential\n",
    "from tensorflow.keras import layers\n",
    "from tensorflow.keras.callbacks import EarlyStopping\n",
    "# from tensorflow.keras.utils import to_categorical\n",
    "from tensorflow.keras.preprocessing.image import ImageDataGenerator, load_img,img_to_array\n",
    "# from tensorflow.keras.applications import InceptionV3\n",
    "from tensorflow.keras import optimizers\n",
    "from tensorflow.keras.optimizers import Adam\n",
    "from tensorflow.keras.models import load_model\n",
    "from tensorflow.keras import models, layers\n",
    "# from keras.utils.vis_utils import plot_model\n",
    "from tensorflow.keras.layers import Dense#,Conv2D,MaxPooling2D,Flatten,Dropout,BatchNormalization,Activation\n",
    "import random as rn"
   ]
  },
  {
   "cell_type": "code",
   "execution_count": null,
   "id": "H7wJQA_8_AKN",
   "metadata": {
    "id": "H7wJQA_8_AKN"
   },
   "outputs": [],
   "source": [
    "# set seeds for reproducibility\n",
    "seed_value = 0\n",
    "np.random.seed(seed_value)\n",
    "rn.seed(seed_value)\n",
    "session_conf = tf.compat.v1.ConfigProto(intra_op_parallelism_threads=1, inter_op_parallelism_threads=1)\n",
    "tf.compat.v1.set_random_seed(seed_value)\n",
    "sess = tf.compat.v1.Session(graph=tf.compat.v1.get_default_graph(), config=session_conf)\n",
    "tf.compat.v1.keras.backend.set_session(sess)"
   ]
  },
  {
   "cell_type": "markdown",
   "id": "9bd6daec",
   "metadata": {
    "id": "9bd6daec"
   },
   "source": [
    "# Generate image batches"
   ]
  },
  {
   "cell_type": "code",
   "execution_count": null,
   "id": "8766af5f",
   "metadata": {
    "id": "8766af5f"
   },
   "outputs": [],
   "source": [
    "# read files relevant for data loading\n",
    "image_names = pd.DataFrame(pd.read_csv('drive/MyDrive/Bird_data/CUB_200_2011/images.txt', sep=\" \",names=['idx', 'im_name']))\n",
    "traintest = pd.DataFrame(pd.read_csv('drive/MyDrive/Bird_data/CUB_200_2011/train_test_split.txt', sep=\" \",names=['idx', 'split']))\n",
    "labels = pd.DataFrame(pd.read_csv('drive/MyDrive/Bird_data/CUB_200_2011/image_class_labels.txt', sep=\" \",names=['idx', 'label'])) \n",
    "# merge files\n",
    "image_names['split'] = traintest['split']\n",
    "image_names['label'] = labels['label']\n",
    "# map classes\n",
    "classes = pd.DataFrame(pd.read_csv('drive/MyDrive/Bird_data/CUB_200_2011/classes.txt', sep=\" \",names=['idx', 'class']))\n",
    "mapeo = dict(zip(classes['idx'].values,classes['class'].values))\n",
    "image_names=image_names.replace({\"label\": mapeo})\n",
    "#divide in training and testing\n",
    "image_names_train = image_names[image_names['split']==1]\n",
    "image_names_test = image_names[image_names['split']==0]"
   ]
  },
  {
   "cell_type": "code",
   "execution_count": null,
   "id": "6d304ee0",
   "metadata": {
    "colab": {
     "base_uri": "https://localhost:8080/"
    },
    "id": "6d304ee0",
    "outputId": "7c14ddcd-f9dd-48a3-a4bd-17062b91af74"
   },
   "outputs": [],
   "source": [
    "# create generator objects used to obtain image batches to train and test the model\n",
    "datagen=ImageDataGenerator(rescale=1./255.)\n",
    "\n",
    "train_generator=datagen.flow_from_dataframe(dataframe=image_names_train,\n",
    "                directory= \"drive/MyDrive/Bird_data/CUB_200_2011/images\",x_col=\"im_name\",y_col=\"label\",\n",
    "                batch_size=64,seed=42,shuffle=True,class_mode=\"categorical\",target_size=(299,299)) # specify target size for Inception model\n",
    "\n",
    "\n",
    "test_generator=datagen.flow_from_dataframe(dataframe=image_names_test,\n",
    "                directory= \"drive/MyDrive/Bird_data/CUB_200_2011/images\",x_col=\"im_name\",y_col=\"label\",\n",
    "                batch_size=64,seed=42,shuffle=False,class_mode=\"categorical\",target_size=(299,299)) "
   ]
  },
  {
   "cell_type": "markdown",
   "id": "3Qd-gsdrT8aj",
   "metadata": {
    "id": "3Qd-gsdrT8aj"
   },
   "source": [
    "# Train classification layers"
   ]
  },
  {
   "cell_type": "code",
   "execution_count": null,
   "id": "5faf4648",
   "metadata": {
    "id": "5faf4648"
   },
   "outputs": [],
   "source": [
    "from keras.preprocessing import image\n",
    "import tensorflow_hub as hub"
   ]
  },
  {
   "cell_type": "code",
   "execution_count": null,
   "id": "sigOyzUJLcD9",
   "metadata": {
    "id": "sigOyzUJLcD9",
    "outputId": "9b963993-a0c1-45d9-c1d5-84190b46ff10"
   },
   "outputs": [],
   "source": [
    "# create model architecture using inceptionv3 feature extraction layers trained on Naturalist dataset. trainable set to false for the moment\n",
    "# add dense layers to be trained in this first stage\n",
    "model = tf.keras.Sequential([\n",
    "    hub.KerasLayer(\"https://tfhub.dev/google/inaturalist/inception_v3/feature_vector/5\", trainable=False),  \n",
    "    tf.keras.layers.Dropout(0.3),\n",
    "    tf.keras.layers.Dense(512, activation='relu'),\n",
    "    tf.keras.layers.Dropout(0.3),\n",
    "    tf.keras.layers.Dense(256, activation='relu'), \n",
    "    tf.keras.layers.Dense(200, activation='softmax')\n",
    "])\n",
    "model.build([None, 299, 299, 3])  # Batch input shape.\n",
    "\n",
    "model.compile(optimizer=keras.optimizers.Adam(), loss='categorical_crossentropy', metrics=['accuracy', keras.metrics.Precision(), keras.metrics.Recall()])"
   ]
  },
  {
   "cell_type": "code",
   "execution_count": null,
   "id": "0L9AKjXKORoK",
   "metadata": {
    "id": "0L9AKjXKORoK",
    "outputId": "126e2130-2aa1-43ba-9f20-2707afa9f418"
   },
   "outputs": [],
   "source": [
    "# train the network\n",
    "model.fit(train_generator, epochs=10) "
   ]
  },
  {
   "cell_type": "markdown",
   "id": "yjn55LUSUA3p",
   "metadata": {
    "id": "yjn55LUSUA3p"
   },
   "source": [
    "# Tune whole network"
   ]
  },
  {
   "cell_type": "code",
   "execution_count": null,
   "id": "CidsC9Zpznvy",
   "metadata": {
    "id": "CidsC9Zpznvy"
   },
   "outputs": [],
   "source": [
    "# set feature extraction layers to be trainable for this second stage\n",
    "model.layers[0].trainable = True"
   ]
  },
  {
   "cell_type": "code",
   "execution_count": null,
   "id": "274d8399",
   "metadata": {
    "id": "274d8399"
   },
   "outputs": [],
   "source": [
    "# use a small learning rate in this case\n",
    "model.compile(optimizer=keras.optimizers.Adam(1e-5), loss='categorical_crossentropy', metrics=['accuracy', keras.metrics.Precision(), keras.metrics.Recall()])"
   ]
  },
  {
   "cell_type": "code",
   "execution_count": null,
   "id": "PVbh3RMx0H2p",
   "metadata": {
    "id": "PVbh3RMx0H2p"
   },
   "outputs": [],
   "source": [
    "model.fit(train_generator, epochs=5)  "
   ]
  },
  {
   "cell_type": "markdown",
   "id": "7G8yYFQrUG3C",
   "metadata": {
    "id": "7G8yYFQrUG3C"
   },
   "source": [
    "# Evaluate"
   ]
  },
  {
   "cell_type": "code",
   "execution_count": null,
   "id": "9UN4W-fUJAee",
   "metadata": {
    "id": "9UN4W-fUJAee"
   },
   "outputs": [],
   "source": [
    "#load pretrained model\n",
    "model2 = tf.keras.models.load_model('drive/MyDrive/Bird_data/models')"
   ]
  },
  {
   "cell_type": "code",
   "execution_count": null,
   "id": "FrRDvlQOWp96",
   "metadata": {
    "id": "FrRDvlQOWp96"
   },
   "outputs": [],
   "source": [
    "model2.evaluate(test_generator)"
   ]
  },
  {
   "cell_type": "code",
   "execution_count": null,
   "id": "jKtgfLB5JAbo",
   "metadata": {
    "colab": {
     "base_uri": "https://localhost:8080/"
    },
    "id": "jKtgfLB5JAbo",
    "outputId": "53cd5812-9dea-4c97-e5ee-4b202c0904a0"
   },
   "outputs": [],
   "source": [
    "predictions = model2.predict(test_generator)\n",
    "y_pred = np.argmax(predictions, axis = 1)"
   ]
  },
  {
   "cell_type": "code",
   "execution_count": null,
   "id": "h06JnFodhPF6",
   "metadata": {
    "id": "h06JnFodhPF6"
   },
   "outputs": [],
   "source": [
    "# number_of_examples = len(test_generator.filenames)\n",
    "# number_of_generator_calls = math.ceil(number_of_examples / (1.0 * 64)) \n",
    "\n",
    "# test_labels = []\n",
    "# for i in range(0,int(number_of_generator_calls)+1):\n",
    "#     # test_labels.extend(np.array(test_generator[i][1]))\n",
    "#     test_labels.extend(np.argmax(np.array(test_generator[i][1]), axis = 1))"
   ]
  },
  {
   "cell_type": "code",
   "execution_count": null,
   "id": "PFZQSSFpq-El",
   "metadata": {
    "id": "PFZQSSFpq-El"
   },
   "outputs": [],
   "source": [
    "test_labels = test_generator.classes"
   ]
  },
  {
   "cell_type": "code",
   "execution_count": null,
   "id": "22b08b33",
   "metadata": {
    "id": "22b08b33"
   },
   "outputs": [],
   "source": [
    "from sklearn.metrics import confusion_matrix, ConfusionMatrixDisplay,classification_report"
   ]
  },
  {
   "cell_type": "code",
   "execution_count": null,
   "id": "922c57fc",
   "metadata": {
    "id": "922c57fc"
   },
   "outputs": [],
   "source": [
    "cm = confusion_matrix(test_labels, y_pred)"
   ]
  },
  {
   "cell_type": "code",
   "execution_count": null,
   "id": "ba50da9a",
   "metadata": {
    "colab": {
     "base_uri": "https://localhost:8080/"
    },
    "id": "ba50da9a",
    "outputId": "13ade9e5-464d-481c-e097-4c073baca577"
   },
   "outputs": [],
   "source": [
    "np.trace(cm)"
   ]
  },
  {
   "cell_type": "code",
   "execution_count": null,
   "id": "L-vzXRJn2zRZ",
   "metadata": {
    "colab": {
     "base_uri": "https://localhost:8080/",
     "height": 622
    },
    "id": "L-vzXRJn2zRZ",
    "outputId": "fb059b55-7a58-44cd-c607-f2a6eee93ae4"
   },
   "outputs": [],
   "source": [
    "import seaborn as sns \n",
    "df_cm = pd.DataFrame(cm, index = [i for i in list(range(200))],\n",
    "                  columns = [i for i in list(range(200))])\n",
    "plt.figure(figsize = (10,10))\n",
    "sns.heatmap(df_cm, annot=False, cmap = 'Blues')"
   ]
  }
 ],
 "metadata": {
  "accelerator": "GPU",
  "colab": {
   "machine_shape": "hm",
   "provenance": []
  },
  "gpuClass": "premium",
  "hide_input": false,
  "kernelspec": {
   "display_name": "Python 3 (ipykernel)",
   "language": "python",
   "name": "python3"
  },
  "language_info": {
   "codemirror_mode": {
    "name": "ipython",
    "version": 3
   },
   "file_extension": ".py",
   "mimetype": "text/x-python",
   "name": "python",
   "nbconvert_exporter": "python",
   "pygments_lexer": "ipython3",
   "version": "3.9.13"
  },
  "toc": {
   "base_numbering": 1,
   "nav_menu": {},
   "number_sections": true,
   "sideBar": true,
   "skip_h1_title": false,
   "title_cell": "Table of Contents",
   "title_sidebar": "Contents",
   "toc_cell": false,
   "toc_position": {},
   "toc_section_display": true,
   "toc_window_display": false
  },
  "varInspector": {
   "cols": {
    "lenName": 16,
    "lenType": 16,
    "lenVar": 40
   },
   "kernels_config": {
    "python": {
     "delete_cmd_postfix": "",
     "delete_cmd_prefix": "del ",
     "library": "var_list.py",
     "varRefreshCmd": "print(var_dic_list())"
    },
    "r": {
     "delete_cmd_postfix": ") ",
     "delete_cmd_prefix": "rm(",
     "library": "var_list.r",
     "varRefreshCmd": "cat(var_dic_list()) "
    }
   },
   "types_to_exclude": [
    "module",
    "function",
    "builtin_function_or_method",
    "instance",
    "_Feature"
   ],
   "window_display": false
  }
 },
 "nbformat": 4,
 "nbformat_minor": 5
}
